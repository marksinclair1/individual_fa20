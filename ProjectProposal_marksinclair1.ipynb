{
 "cells": [
  {
   "cell_type": "markdown",
   "metadata": {},
   "source": [
    "# COGS 108 - Project Proposal"
   ]
  },
  {
   "cell_type": "markdown",
   "metadata": {},
   "source": [
    "# Names & GitHub ID\n",
    "\n",
    "- Name: Mark Sinclair\n",
    "- GitHub Username: marksinclair1"
   ]
  },
  {
   "cell_type": "markdown",
   "metadata": {},
   "source": [
    "# Research Question"
   ]
  },
  {
   "cell_type": "markdown",
   "metadata": {},
   "source": [
    "Does easy access to parks increase the standard of living in an area?"
   ]
  },
  {
   "cell_type": "markdown",
   "metadata": {},
   "source": [
    "## Background and Prior Work"
   ]
  },
  {
   "cell_type": "markdown",
   "metadata": {},
   "source": [
    "According to Coth Jones, and communications manager at the National Recreation and Parks Association, Parks are a effective way to improve the standard of living. Jones reported that almost unanimous agreement in local government officials belief that the parks system has been effective to benefit the community (99% agree). He argues the parks system brings in wealth in the community tot he tune of almost 32 bllion extra dollars in GDP. To add, the City of Arlington took a survey of its residents and they said that 92% of them were satisfied with the athletics system and the value of homes that were located near parks or natural areas had increased the value of their land. they increased by over $10,000 for homes located near natural areas and by over $1000 dollars for homes within 1,500 ft near an urban park. They found data from a Nebraska study cited in the Active Living Research that every dollar spent on trials directly resulted in $3 saved on medical expenses. \"Many cities feel they must choose between economic growth and open space protection. In most cases, however, no such choice is necessary\" (City of Arlington).\n",
    "References (include links):\n",
    "- 1) The City of Arlington (https://www.como.gov/parksandrec/wp-content/uploads/sites/25/2017/09/eco_impact_parks_naturallyfunmag_arlington.pdf)\n",
    "- 2)Cort Jones, Communications Manager at National Recreation and Parks Association\n",
    "(https://icma.org/blog-posts/economic-impact-parks-and-recreation#:~:text=Parks%2C%20open%20space%2C%20and%20recreation,can%20ripple%20throughout%20the%20economy.)"
   ]
  },
  {
   "cell_type": "markdown",
   "metadata": {},
   "source": [
    "# Hypothesis\n"
   ]
  },
  {
   "cell_type": "markdown",
   "metadata": {},
   "source": [
    "I believe that self reported standard of living statistics and wages will be positively correlated with the amount of park space in an area."
   ]
  },
  {
   "cell_type": "markdown",
   "metadata": {},
   "source": [
    "# Data"
   ]
  },
  {
   "cell_type": "markdown",
   "metadata": {},
   "source": [
    "A CSV with the variables of self reported standard of living and wages would be great. The most important variable that I will need to find is the distance from a household that a reported person we be. Because I'm generalizing for San Diego county, a couple of sample sizes of over 100 people will be necessary for an accurate prediction for my data. The data would be better if it was for San Diego, but if i find data from a different city asking the same question, it would be ok if the area is similar in size to San Diego."
   ]
  },
  {
   "cell_type": "markdown",
   "metadata": {},
   "source": [
    "# Ethics & Privacy"
   ]
  },
  {
   "cell_type": "markdown",
   "metadata": {},
   "source": [
    "I plan to use public information that people has gave out, as well as information of the amount of land that the state as allocated to Parks and Recreation. With some of the data collected, I hope to get some of the Census data, but to make sure that i collect data that is all public. Some of the usually things that I need to be cautious about would be making sure that the data collected can not be traced back to anyone who was in the survey. "
   ]
  }
 ],
 "metadata": {
  "kernelspec": {
   "display_name": "Python 3",
   "language": "python",
   "name": "python3"
  },
  "language_info": {
   "codemirror_mode": {
    "name": "ipython",
    "version": 3
   },
   "file_extension": ".py",
   "mimetype": "text/x-python",
   "name": "python",
   "nbconvert_exporter": "python",
   "pygments_lexer": "ipython3",
   "version": "3.7.6"
  }
 },
 "nbformat": 4,
 "nbformat_minor": 2
}
